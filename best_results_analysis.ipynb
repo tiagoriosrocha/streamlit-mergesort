{
 "cells": [
  {
   "cell_type": "markdown",
   "id": "fe79eb4d",
   "metadata": {},
   "source": [
    "# 🧩 Comparação dos Melhores Resultados — Versão Corrigida\n",
    "Esta versão **não considera o threshold -1** ao escolher os melhores híbridos, mas **mantém todas as linhas correspondentes ao Merge puro (threshold = -1)** para comparação.\n",
    "\n",
    "Curvas teóricas incluídas: $n·\\log_2(n)$, $n^2$, e $n$."
   ]
  },
  {
   "cell_type": "code",
   "execution_count": null,
   "id": "e4603b89",
   "metadata": {},
   "outputs": [],
   "source": [
    "\n",
    "import pandas as pd\n",
    "import numpy as np\n",
    "import matplotlib.pyplot as plt\n",
    "import seaborn as sns\n",
    "\n",
    "# Leitura do CSV atualizado\n",
    "df = pd.read_csv(\"melhores_resultados_merge_hibridos_v2.csv\")\n",
    "df.head()\n"
   ]
  },
  {
   "cell_type": "code",
   "execution_count": null,
   "id": "609ae4f3",
   "metadata": {},
   "outputs": [],
   "source": [
    "\n",
    "sns.set(style=\"whitegrid\", font_scale=1.2)\n",
    "\n",
    "plt.figure(figsize=(12, 7))\n",
    "sns.lineplot(data=df, x=\"Tamanho\", y=\"MediaReal\", hue=\"Algoritmo\", marker=\"o\")\n",
    "\n",
    "plt.title(\"Comparação dos Melhores Resultados (Threshold > -1) e Merge Puro\")\n",
    "plt.xlabel(\"Tamanho do vetor (n)\")\n",
    "plt.ylabel(\"Tempo real médio (s)\")\n",
    "\n",
    "# Linhas teóricas\n",
    "n_vals = np.linspace(df[\"Tamanho\"].min(), df[\"Tamanho\"].max(), 200)\n",
    "max_obs = df[\"MediaReal\"].max()\n",
    "\n",
    "# n·log(n)\n",
    "nlogn = n_vals * np.log2(n_vals)\n",
    "plt.plot(n_vals, nlogn * (max_obs / nlogn.max()), '--', color='black', label='n·log₂(n)')\n",
    "\n",
    "# n²\n",
    "n2 = n_vals**2\n",
    "plt.plot(n_vals, n2 * (max_obs / n2.max()), ':', color='gray', label='n²')\n",
    "\n",
    "# n\n",
    "n_line = n_vals\n",
    "plt.plot(n_vals, n_line * (max_obs / n_line.max()), '-.', color='red', label='n')\n",
    "\n",
    "plt.legend(title=\"Algoritmo\", bbox_to_anchor=(1.02, 1), loc='upper left')\n",
    "plt.tight_layout()\n",
    "plt.show()\n"
   ]
  }
 ],
 "metadata": {},
 "nbformat": 4,
 "nbformat_minor": 5
}